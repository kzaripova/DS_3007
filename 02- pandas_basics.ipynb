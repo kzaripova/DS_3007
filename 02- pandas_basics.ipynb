{
 "cells": [
  {
   "cell_type": "markdown",
   "id": "a4b39641",
   "metadata": {},
   "source": [
    "# Основы Pandas"
   ]
  },
  {
   "cell_type": "markdown",
   "id": "4a449875-082c-4a85-8113-face21de6816",
   "metadata": {},
   "source": [
    "# Домашнее задание"
   ]
  },
  {
   "cell_type": "markdown",
   "id": "8c77d5dc-70c6-4580-803f-810cfe2ea606",
   "metadata": {},
   "source": [
    "## Easy"
   ]
  },
  {
   "cell_type": "markdown",
   "id": "dafd166a-4919-4b9a-9b41-d52a113275eb",
   "metadata": {},
   "source": [
    "Изучите распределение размеров компаний (`company_size`) с помощью метода `.value_counts()`. Опишите своими словами, что вы увидели."
   ]
  },
  {
   "cell_type": "code",
   "execution_count": 7,
   "id": "7313a3a6-0259-4f38-a8d8-4f994f236ba1",
   "metadata": {},
   "outputs": [
    {
     "data": {
      "text/plain": [
       "M    3153\n",
       "L     454\n",
       "S     148\n",
       "Name: company_size, dtype: int64"
      ]
     },
     "execution_count": 7,
     "metadata": {},
     "output_type": "execute_result"
    }
   ],
   "source": [
    "# Ваш код ниже:\n",
    "import pandas as pd\n",
    "df = pd.read_csv(r'C:\\Users\\Owner\\domashka\\ds_salaries_mod.csv')\n",
    "df['company_size'].value_counts()"
   ]
  },
  {
   "cell_type": "markdown",
   "id": "098d5028-f53a-495c-b4a9-7dc7ca7e23c0",
   "metadata": {},
   "source": [
    "Вывод: больше всего \"средних\" компаний"
   ]
  },
  {
   "cell_type": "markdown",
   "id": "268cafb2-f782-44da-ad5b-95469917e78e",
   "metadata": {},
   "source": [
    "## Normal"
   ]
  },
  {
   "cell_type": "markdown",
   "id": "5ef0c324-4742-43f1-879f-ea851395f428",
   "metadata": {},
   "source": [
    "Сделайте выборку за 2023 год. Постройте по ней сводную таблицу, сгруппированную по размеру компании-работодателя (`company_size`), со средней и медианной зарплатой в долларах. Не забывайте также указать количество."
   ]
  },
  {
   "cell_type": "code",
   "execution_count": 34,
   "id": "0eb74644-ecef-416c-848a-b7293fc105a6",
   "metadata": {},
   "outputs": [
    {
     "data": {
      "text/html": [
       "<div>\n",
       "<style scoped>\n",
       "    .dataframe tbody tr th:only-of-type {\n",
       "        vertical-align: middle;\n",
       "    }\n",
       "\n",
       "    .dataframe tbody tr th {\n",
       "        vertical-align: top;\n",
       "    }\n",
       "\n",
       "    .dataframe thead th {\n",
       "        text-align: right;\n",
       "    }\n",
       "</style>\n",
       "<table border=\"1\" class=\"dataframe\">\n",
       "  <thead>\n",
       "    <tr style=\"text-align: right;\">\n",
       "      <th></th>\n",
       "      <th>count</th>\n",
       "      <th>mean</th>\n",
       "      <th>median</th>\n",
       "    </tr>\n",
       "    <tr>\n",
       "      <th>company_size</th>\n",
       "      <th></th>\n",
       "      <th></th>\n",
       "      <th></th>\n",
       "    </tr>\n",
       "  </thead>\n",
       "  <tbody>\n",
       "    <tr>\n",
       "      <th>L</th>\n",
       "      <td>71</td>\n",
       "      <td>138622.845070</td>\n",
       "      <td>126100.0</td>\n",
       "    </tr>\n",
       "    <tr>\n",
       "      <th>M</th>\n",
       "      <td>1275</td>\n",
       "      <td>151126.316078</td>\n",
       "      <td>145000.0</td>\n",
       "    </tr>\n",
       "    <tr>\n",
       "      <th>S</th>\n",
       "      <td>17</td>\n",
       "      <td>73632.647059</td>\n",
       "      <td>53654.0</td>\n",
       "    </tr>\n",
       "  </tbody>\n",
       "</table>\n",
       "</div>"
      ],
      "text/plain": [
       "              count           mean    median\n",
       "company_size                                \n",
       "L                71  138622.845070  126100.0\n",
       "M              1275  151126.316078  145000.0\n",
       "S                17   73632.647059   53654.0"
      ]
     },
     "execution_count": 34,
     "metadata": {},
     "output_type": "execute_result"
    }
   ],
   "source": [
    "# Ваш код ниже:\n",
    "df_2023 = df[df['work_year'] == 2023]\n",
    "df_2023.groupby('company_size')['salary_in_usd'].agg(['count', 'mean', 'median'])"
   ]
  },
  {
   "cell_type": "markdown",
   "id": "52f0a6a4-3fb5-48b5-9e9a-adfafcd84f5f",
   "metadata": {},
   "source": [
    "Напишите краткий вывод из полученной таблицы: зп выше в компаниях М. У компаний S слишком маленькая выборка."
   ]
  },
  {
   "cell_type": "markdown",
   "id": "06fd85fc-8793-497b-b144-7fb492d56e6a",
   "metadata": {},
   "source": [
    "Аналогично исследуйте 2022 год. Есть ли отличия?"
   ]
  },
  {
   "cell_type": "code",
   "execution_count": 35,
   "id": "a84501a5-61a6-4d33-924b-b6d9284ab8ee",
   "metadata": {},
   "outputs": [
    {
     "data": {
      "text/html": [
       "<div>\n",
       "<style scoped>\n",
       "    .dataframe tbody tr th:only-of-type {\n",
       "        vertical-align: middle;\n",
       "    }\n",
       "\n",
       "    .dataframe tbody tr th {\n",
       "        vertical-align: top;\n",
       "    }\n",
       "\n",
       "    .dataframe thead th {\n",
       "        text-align: right;\n",
       "    }\n",
       "</style>\n",
       "<table border=\"1\" class=\"dataframe\">\n",
       "  <thead>\n",
       "    <tr style=\"text-align: right;\">\n",
       "      <th></th>\n",
       "      <th>count</th>\n",
       "      <th>mean</th>\n",
       "      <th>median</th>\n",
       "    </tr>\n",
       "    <tr>\n",
       "      <th>company_size</th>\n",
       "      <th></th>\n",
       "      <th></th>\n",
       "      <th></th>\n",
       "    </tr>\n",
       "  </thead>\n",
       "  <tbody>\n",
       "    <tr>\n",
       "      <th>L</th>\n",
       "      <td>143</td>\n",
       "      <td>120581.482517</td>\n",
       "      <td>120000.0</td>\n",
       "    </tr>\n",
       "    <tr>\n",
       "      <th>M</th>\n",
       "      <td>1096</td>\n",
       "      <td>137245.859489</td>\n",
       "      <td>135000.0</td>\n",
       "    </tr>\n",
       "    <tr>\n",
       "      <th>S</th>\n",
       "      <td>40</td>\n",
       "      <td>75092.325000</td>\n",
       "      <td>58000.0</td>\n",
       "    </tr>\n",
       "  </tbody>\n",
       "</table>\n",
       "</div>"
      ],
      "text/plain": [
       "              count           mean    median\n",
       "company_size                                \n",
       "L               143  120581.482517  120000.0\n",
       "M              1096  137245.859489  135000.0\n",
       "S                40   75092.325000   58000.0"
      ]
     },
     "execution_count": 35,
     "metadata": {},
     "output_type": "execute_result"
    }
   ],
   "source": [
    "df_2022 = df[df['work_year'] == 2022]\n",
    "df_2022.groupby('company_size')['salary_in_usd'].agg(['count', 'mean', 'median'])"
   ]
  },
  {
   "cell_type": "markdown",
   "id": "04472859-0e11-4bfc-bb67-402cf5dd5a94",
   "metadata": {},
   "source": [
    "Вывод: здесь похожая ситуация."
   ]
  },
  {
   "cell_type": "markdown",
   "id": "bc00cafa-a831-42b2-b0bd-042322c7ab63",
   "metadata": {},
   "source": [
    "## Hard"
   ]
  },
  {
   "cell_type": "markdown",
   "id": "24abf10f-81e4-4e3b-8d80-6f87b5b8c6a6",
   "metadata": {},
   "source": [
    "Для начала попробуйте восстановить пропущенные значения `salary_in_usd`."
   ]
  },
  {
   "cell_type": "markdown",
   "id": "f75ab23c-0422-4966-a691-e8a1aa5a9ef4",
   "metadata": {},
   "source": [
    "<details>\n",
    "<summary>Подсказка (нажмите, чтобы посмотреть):</summary>\n",
    "Один из способов:\n",
    "    <ul><li>создайте дополнительный столбец с \"курсом доллара\" для каждого наблюдения;</li>\n",
    "    <li>проверьте, менялся ли курс каждой валюты в течение года;</li>\n",
    "    <li>по возможности примените этот курс для расчета пропущенного значения;</li>\n",
    "    <li>если остались пропуски, которые нельзя заполнить, удалите их.</li></ul>    \n",
    "</details>"
   ]
  },
  {
   "cell_type": "markdown",
   "id": "f8e8bd10-1a01-40fe-959d-bf0c9ab1a774",
   "metadata": {},
   "source": [
    "Оставляйте комментарии в коде своего решения."
   ]
  },
  {
   "cell_type": "code",
   "execution_count": null,
   "id": "75f9770b-8961-467f-b383-827ca354f87b",
   "metadata": {},
   "outputs": [],
   "source": [
    "# Ваш код:\n"
   ]
  },
  {
   "cell_type": "markdown",
   "id": "969e0d2c-ac1d-4ec9-93d7-28d34468d32c",
   "metadata": {},
   "source": [
    "Дополнительно: попробуйте свести данные в столбце `job_title` к 4 основным профессиям (Data Scientist, Data Analyst, Data Engineer, ML Engineer), где это возможно."
   ]
  },
  {
   "cell_type": "code",
   "execution_count": null,
   "id": "7b5f4718-f5d3-4f98-b4fd-cb409d72df0a",
   "metadata": {},
   "outputs": [],
   "source": [
    "# Ваш код:\n"
   ]
  },
  {
   "cell_type": "markdown",
   "id": "c2013533-f2d1-41d3-acfd-fc7269f4fb5c",
   "metadata": {},
   "source": [
    "Сделайте выборку за 2023 год. Постройте по ней сводную таблицу, сгруппированную по профессии (`job_title`), со средней и медианной зарплатой в долларах. Не забывайте также указать количество. (Если у вас не получилось привести в порядок столбец `job_title`, выведите только 4 самых распространенных профессии.)"
   ]
  },
  {
   "cell_type": "code",
   "execution_count": null,
   "id": "f3133ece-ed1c-4d3f-bebe-e91b4573ed1a",
   "metadata": {},
   "outputs": [],
   "source": [
    "# Ваш код:\n"
   ]
  },
  {
   "cell_type": "markdown",
   "id": "baa395e7-a963-482d-9218-fe1a0518bcc9",
   "metadata": {},
   "source": [
    "Теперь давайте получше категоризируем зарплаты. Изучите самостоятельно документацию к функциям pandas [cut](https://pandas.pydata.org/pandas-docs/stable/reference/api/pandas.cut.html) и [qcut](https://pandas.pydata.org/pandas-docs/stable/reference/api/pandas.qcut.html). Используйте их, чтобы разбить зарплаты на три или больше категорий (например: `Low`, `Medium`, `High`) и запишите их в столбец `salary_range`."
   ]
  },
  {
   "cell_type": "markdown",
   "id": "4811add4-4ef3-4075-8ce7-f18319636011",
   "metadata": {},
   "source": [
    "Сделайте сводную таблицу по профессиям за 2023 год, где будут выведены:\n",
    "- число работников в профессии;\n",
    "- самая часто встречающаяся категория зарплаты.\n",
    "\n",
    "<details>\n",
    "<summary>Подсказка (нажмите, чтобы посмотреть):</summary>\n",
    "<code>lambda x : pd.Series.mode(x)</code>\n",
    "</details>"
   ]
  },
  {
   "cell_type": "code",
   "execution_count": null,
   "id": "d1d983de-3164-414e-8a4b-f8445f12a2c9",
   "metadata": {},
   "outputs": [],
   "source": [
    "# Ваш код:\n"
   ]
  },
  {
   "cell_type": "markdown",
   "id": "f711b85c-2f3e-43aa-bf7f-f6daeed757e2",
   "metadata": {},
   "source": [
    "Проверьте себя: совпадают ли категории с реальными цифрами?"
   ]
  }
 ],
 "metadata": {
  "kernelspec": {
   "display_name": "Python 3 (ipykernel)",
   "language": "python",
   "name": "python3"
  },
  "language_info": {
   "codemirror_mode": {
    "name": "ipython",
    "version": 3
   },
   "file_extension": ".py",
   "mimetype": "text/x-python",
   "name": "python",
   "nbconvert_exporter": "python",
   "pygments_lexer": "ipython3",
   "version": "3.9.13"
  },
  "widgets": {
   "application/vnd.jupyter.widget-state+json": {
    "state": {},
    "version_major": 2,
    "version_minor": 0
   }
  }
 },
 "nbformat": 4,
 "nbformat_minor": 5
}
